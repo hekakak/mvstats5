{
 "cells": [
  {
   "cell_type": "markdown",
   "metadata": {
    "code_folding": [],
    "extensions": {
     "jupyter_dashboards": {
      "version": 1,
      "views": {
       "grid_default": {
        "col": 0,
        "height": 4,
        "hidden": false,
        "row": 0,
        "width": 4
       },
       "report_default": {}
      }
     }
    }
   },
   "source": [
    "多元统计分析及R语言建模（第五版）\n",
    "—— 王斌会 2018-9 "
   ]
  },
  {
   "cell_type": "markdown",
   "metadata": {},
   "source": [
    "<img style=\"float: left;\" src=\"mvstats5.jpg\\\">"
   ]
  },
  {
   "cell_type": "markdown",
   "metadata": {
    "extensions": {
     "jupyter_dashboards": {
      "version": 1,
      "views": {
       "grid_default": {
        "hidden": true
       },
       "report_default": {}
      }
     }
    },
    "scrolled": true
   },
   "source": [
    "#***********************************************\n",
    "#******  多元统计分析及R语言建模（第五版） ******\n",
    "#******  代码文件: mvstats5.R\"         ******\n",
    "#******  数据文件: mvstats5.xlsx\"       ******\n",
    "#******  修改时间：王斌会 2018.6.6      ******\n",
    "#***********************************************"
   ]
  },
  {
   "cell_type": "markdown",
   "metadata": {
    "extensions": {
     "jupyter_dashboards": {
      "version": 1,
      "views": {
       "grid_default": {
        "hidden": true
       },
       "report_default": {}
      }
     }
    },
    "scrolled": true
   },
   "source": [
    "# 1 多元统计分析概述 "
   ]
  },
  {
   "cell_type": "code",
   "execution_count": null,
   "metadata": {
    "extensions": {
     "jupyter_dashboards": {
      "version": 1,
      "views": {
       "grid_default": {
        "hidden": true
       },
       "report_default": {}
      }
     }
    }
   },
   "outputs": [],
   "source": [
    "#【输出设置】\n",
    "#setwd(\"F:/mvstats5\")              #设置目录\n",
    "source('initR.r')                  #初始化\n",
    "library(openxlsx)                  #加载读取excel数据包"
   ]
  },
  {
   "cell_type": "code",
   "execution_count": null,
   "metadata": {
    "extensions": {
     "jupyter_dashboards": {
      "version": 1,
      "views": {
       "grid_default": {
        "hidden": true
       },
       "report_default": {}
      }
     }
    }
   },
   "outputs": [],
   "source": [
    "A=matrix(1:20,5,4); A\n",
    "X=rnorm(50); round(X,4)            #产生50个标准正态随机数\n",
    ".iplot(); hist(X,prob=TRUE)        #做数据的直方图\n",
    "lines(density(X),col='red')        #添加密度函数曲线 "
   ]
  },
  {
   "cell_type": "markdown",
   "metadata": {
    "extensions": {
     "jupyter_dashboards": {
      "version": 1,
      "views": {
       "grid_default": {
        "hidden": true
       },
       "report_default": {}
      }
     }
    },
    "scrolled": true
   },
   "source": [
    "# 2 多元数据的数学表达 "
   ]
  },
  {
   "cell_type": "code",
   "execution_count": null,
   "metadata": {
    "extensions": {
     "jupyter_dashboards": {
      "version": 1,
      "views": {
       "grid_default": {
        "hidden": true
       },
       "report_default": {}
      }
     }
    }
   },
   "outputs": [],
   "source": [
    "#### 创建一个向量\n",
    "x1=c(171,175,159,155,152,158,154,164,168,166,159,164)\n",
    "x2=c(57,64,41,38,35,44,41,51,57,49,47,46)\n",
    "length(x1)#向量的长度\n",
    "mode(x1)#数据的类型\n",
    "a=1:9; a\n",
    "b=c(1,3,6:4,9); b"
   ]
  },
  {
   "cell_type": "code",
   "execution_count": null,
   "metadata": {
    "extensions": {
     "jupyter_dashboards": {
      "version": 1,
      "views": {
       "grid_default": {
        "hidden": true
       },
       "report_default": {}
      }
     }
    }
   },
   "outputs": [],
   "source": [
    "A=matrix(c(1,4,2,5,3,6),nrow=2,ncol=3); A   \n",
    "#A=matrix(c(1,4,2,5,3,6),2,3); A   \n",
    "B=matrix(c(1,2,3,4,5,6),3,2); B   \n",
    "t(A) #求矩阵转置\n",
    "\n",
    "A[,1:2]+B[1:2,] #矩阵加法\n",
    "A[,2:3]+B[2:3,] #矩阵减法\n",
    "C=A%*%B;C\n",
    "D=B%*%A;D\n",
    "\n",
    "diag(D)  #获得矩阵对角线元素\n",
    "I=diag(3);I #创建3阶单位矩阵\n",
    "solve(C) #求矩阵的逆\n",
    "\n",
    "D.e=eigen(D,symmetric=T); D.e  #求矩阵的特征值与特征向量\n",
    "\n",
    "D.e$vectors%*%diag(D.e$values)%*%t(D.e$vectors)\n",
    "#特征向量矩阵U和特征值矩阵D与原矩阵A的关系A=UDU'\n",
    "(A.c=chol(A))#矩阵的Choleskey分解\n",
    "t(A.c)%*%A.c#Choleskey分解矩阵V与原矩阵A.c的关系A.c=V'V\n",
    "(A=matrix(1:18,3,6))#创建矩阵\n",
    "(A.s=svd(A))#矩阵的奇异值分解\n",
    "A.s$u%*%diag(A.s$d)%*%t(A.s$v)#矩阵的奇异值分解结果与原矩阵A的关系A=UDV'\n",
    "(A=matrix(1:16,4,4))#创建矩阵\n",
    "qr(A)#矩阵的QR分解\n",
    "(A=matrix(1:4,2,2))#创建矩阵\n",
    "(B=matrix(rep(1,4),2,2))#创建矩阵\n",
    "kronecker(A,B)#矩阵的kronecker积\n",
    "A=matrix(1:12,3,4)#创建矩阵\n",
    "dim(A)  #矩阵的维数\n",
    "nrow(A) #矩阵的行数\n",
    "ncol(A) #矩阵的列数\n",
    "sum(A)  #矩阵求和\n",
    "mean(A)  #矩阵求均值\n",
    "rowSums(A) #矩阵按行求和\n",
    "rowMeans(A) #矩阵按行求均值\n",
    "colSums(A)  #矩阵按列求和\n",
    "colMeans(A) #矩阵按列求均值\n",
    "\n",
    "X=data.frame(x1,x2);X #产生由X1和X2构建的数据框\n",
    "Y=data.frame('身高'=x1,'体重'=x2);Y #赋予数据框新的列标签\n",
    "rbind(x1,x2) #按行合并\n",
    "cbind(x1,x2) #按列合并\n",
    "head(X)\n",
    "tail(X)\n",
    "\n",
    "Xrs=apply(X,1,sum);Xr #按行求和\n",
    "Xcs=apply(X,2,sum);Xc #按列求和\n",
    "cbind(X,'行合计'=Xrs) #列合并\n",
    "rbind(X,'列合计'=Xcs) #行合并 \n",
    "\n",
    "#在Excel文件mvstats5.xlsx的表单d2.1中选择A1:G515，并复制到剪切板\n",
    "data=read.table(\"clipboard\",header=T) #将剪切板数据读入数据框data中\n",
    "\n",
    "write.csv(X,file = 'test1.csv')\n",
    "read.csv(\"test1.csv\") \n",
    "write.csv(X,file = 'test2.csv',row.names = F)\n",
    "read.csv(\"test2.csv\")"
   ]
  },
  {
   "cell_type": "code",
   "execution_count": null,
   "metadata": {
    "extensions": {
     "jupyter_dashboards": {
      "version": 1,
      "views": {
       "grid_default": {
        "hidden": true
       },
       "report_default": {}
      }
     }
    }
   },
   "outputs": [],
   "source": [
    "#d2.1=read_excel('mvstats5.xlsx',sheet='d2.1') #读取mvstats5.xlsx表格d2.2数据\n",
    "d2.1=read.xlsx('mvstats5.xlsx','d2.1') #读取mvstats5.xlsx表格d2.1数据\n",
    "head(d2.1);tail(d2.1)\n",
    "\n",
    "hist(x1) #做出身高的直方图\n",
    "plot(x1,x2) #做出身高和体重的散点图\n",
    "\n",
    "attach(d2.1)#绑定数据\n",
    "table(年龄)#一维列联表\n",
    "barplot(table(年龄),col=1:7)#条形图\n",
    "pie(table(结果))#饼图\n",
    "table(年龄,性别) #二维列联表\n",
    "barplot(table(年龄,性别),beside=T,col=1:7)#以性别分组的年龄条图\n",
    "barplot(table(性别,年龄),beside=T,col=1:2)#以年龄分组的性别条图\n",
    "ftable(年龄,性别,结果) #以年龄、性别排列的结果频数三维列联表\n",
    "ftable(性别,年龄,结果)#以性别、年龄排列的结果频数三维列联表\n",
    "(ft=ftable(性别,结果,年龄))#显示以性别、结果排列的年龄频数三维列联表\n",
    "rowSums(ft)#求行和\n",
    "colSums(ft)#求列和\n",
    "sum(ft)#求总和"
   ]
  },
  {
   "cell_type": "markdown",
   "metadata": {
    "extensions": {
     "jupyter_dashboards": {
      "version": 1,
      "views": {
       "grid_default": {
        "hidden": true
       },
       "report_default": {}
      }
     }
    },
    "scrolled": true
   },
   "source": [
    "# 3 多多元数据直观表示 "
   ]
  },
  {
   "cell_type": "code",
   "execution_count": null,
   "metadata": {
    "extensions": {
     "jupyter_dashboards": {
      "version": 1,
      "views": {
       "grid_default": {
        "hidden": true
       },
       "report_default": {}
      }
     }
    }
   },
   "outputs": [],
   "source": [
    "## 数据整理 \n",
    "d3.1=read.xlsx('mvstats5.xlsx','d3.1',rowNames=T);d3.1  #%.%head(10)"
   ]
  },
  {
   "cell_type": "code",
   "execution_count": null,
   "metadata": {
    "extensions": {
     "jupyter_dashboards": {
      "version": 1,
      "views": {
       "grid_default": {
        "hidden": true
       },
       "report_default": {}
      }
     }
    }
   },
   "outputs": [],
   "source": [
    "## ——   3.2 条图 ----\n",
    ".iplot()\n",
    "barplot(apply(d3.1,1,mean))#按行做均值条形图"
   ]
  },
  {
   "cell_type": "code",
   "execution_count": null,
   "metadata": {
    "extensions": {
     "jupyter_dashboards": {
      "version": 1,
      "views": {
       "grid_default": {
        "hidden": true
       },
       "report_default": {}
      }
     }
    }
   },
   "outputs": [],
   "source": [
    ".iplot()\n",
    "barplot(apply(d3.1,1,mean),las=3)#按行做均值条形图"
   ]
  },
  {
   "cell_type": "code",
   "execution_count": null,
   "metadata": {
    "extensions": {
     "jupyter_dashboards": {
      "version": 1,
      "views": {
       "grid_default": {
        "hidden": true
       },
       "report_default": {}
      }
     }
    }
   },
   "outputs": [],
   "source": [
    ".iplot(); barplot(apply(d3.1,2,mean))#按列做均值图条形图"
   ]
  },
  {
   "cell_type": "code",
   "execution_count": null,
   "metadata": {
    "extensions": {
     "jupyter_dashboards": {
      "version": 1,
      "views": {
       "grid_default": {
        "hidden": true
       },
       "report_default": {}
      }
     }
    }
   },
   "outputs": [],
   "source": [
    ".iplot()\n",
    "barplot(apply(d3.1,2,mean),col=1:8) #按列做彩色均值图条形图"
   ]
  },
  {
   "cell_type": "code",
   "execution_count": null,
   "metadata": {
    "extensions": {
     "jupyter_dashboards": {
      "version": 1,
      "views": {
       "grid_default": {
        "hidden": true
       },
       "report_default": {}
      }
     }
    }
   },
   "outputs": [],
   "source": [
    "barplot(apply(d3.1[,2:8],2,mean))#去掉第一列后的数据按列做均值条形图"
   ]
  },
  {
   "cell_type": "code",
   "execution_count": null,
   "metadata": {
    "extensions": {
     "jupyter_dashboards": {
      "version": 1,
      "views": {
       "grid_default": {
        "hidden": true
       },
       "report_default": {}
      }
     }
    }
   },
   "outputs": [],
   "source": [
    "barplot(apply(d3.1,2,median),col=1:8)  #按列取色\n",
    "\n",
    "bod3.1plot(d3.1)#按列做箱线图\n",
    "bod3.1plot(d3.1,horizontal=T,las=1)#箱线图中图形按水平放置\n",
    "stars(d3.1)                #具有图例的360度星相图\n",
    "stars(d3.1,key.loc=c(17,7))                #具有图例的360度星相图\n",
    "stars(d3.1,full=F,key.loc=c(17,7))                #具有图例的180度星相图\n",
    "stars(d3.1,draw.segments=T,key.loc=c(17,7))#具有图例的360度彩色圆形星相图\n",
    "stars(d3.1,full=F,draw.segments=T,key.loc=c(17,7))#具有图例的180度彩色圆形星相图\n",
    "library(aplpack) #加载aplpack包\n",
    "faces(d3.1)\n",
    "faces(d3.1[,2:8],ncol.plot=7)#去掉第一个变量按每行7个做脸谱图\n",
    "faces(d3.1[c(1,9,19,28,29,30),])#选择第1,9,19,28,29,30个观测的多元数据做脸谱图\n",
    "library(\"TeachingDemos\") #install.packages(\"TeachingDemos\")\n",
    "faces2(d3.1,ncols=7) #TeachingDemos::faces(d3.1)"
   ]
  },
  {
   "cell_type": "markdown",
   "metadata": {
    "extensions": {
     "jupyter_dashboards": {
      "version": 1,
      "views": {
       "grid_default": {
        "hidden": true
       },
       "report_default": {}
      }
     }
    },
    "scrolled": true
   },
   "source": [
    "# 4 多元相关与回归分析 "
   ]
  },
  {
   "cell_type": "code",
   "execution_count": null,
   "metadata": {
    "extensions": {
     "jupyter_dashboards": {
      "version": 1,
      "views": {
       "grid_default": {
        "hidden": true
       },
       "report_default": {}
      }
     }
    }
   },
   "outputs": [],
   "source": [
    "x=c(171,175,159,155,152,158,154,164,168,166,159,164)#身高\n",
    "y=c(57,64,41,38,35,44,41,51,57,49,47,46)#体重\n",
    "par(mar=c(5,4,2,1))\n",
    "plot(x,y)#做散点图\n",
    "lxy<-function(x,y) sum(x*y)-sum(x)*sum(y)/length(x)  #建立离均差乘积和函数\n",
    "lxy(x1,x1)#x1的离均差平方和\n",
    "lxy(x2,x2)#x1的离均差平方和\n",
    "lxy(x1,x2)#x1的离均差乘积和\n",
    "(r=lxy(x1,x2)/sqrt(lxy(x1,x1)*lxy(x2,x2)))#显示用离均差乘积和计算的相关系数\n",
    "cor(x,y)#计算相关系数\n",
    "\n",
    "n=length(x1)#向量的长度\n",
    "tr=r/sqrt((1-r^2)/(n-2))#相关系数假设检验t统计量\n",
    "tr\n",
    "cor.test(x,y) #相关系数假设检验\n",
    "\n",
    "x=x1#自变量,数据来自例2.2\n",
    "y=x2#因变量,数据来自例2.2\n",
    "b=lxy(x,y)/lxy(x,x)#线性回归方程斜率\n",
    "a=mean(y)-b*mean(x)#线性回归方程截距\n",
    "c(a=a,b=b)#显示线性回归方程估计值\n",
    "plot(x,y)#做散点图\n",
    "lines(x,a+b*x)#添加估计方程线\n",
    "SST=lxy(y,y)#因变量的离均差平方和\n",
    "SSR=b*lxy(x,y)#回归平方和\n",
    "SSE=SST-SSR#误差平方和\n",
    "MSR=SSR/1#回归均方\n",
    "MSE=SSE/(n-2)#误差均方\n",
    "F= MSR/MSE#F统计量\n",
    "c(SST=SST,SSR=SSR,SSE=SSE,MSR=MSR,MSE=MSE,F=F)#显示结果\n",
    "sy.x=sqrt(MSE)#估计标准差\n",
    "sb=sy.x/sqrt(lxy(x,x))#离均差平方和\n",
    "t=b/sb#t统计量\n",
    "ta=qt(1-0.05/2,n-2)#t分位数\n",
    "c(sy.x=sy.x,sb=sb,t=t,ta=ta)#显示结果"
   ]
  },
  {
   "cell_type": "code",
   "execution_count": null,
   "metadata": {
    "extensions": {
     "jupyter_dashboards": {
      "version": 1,
      "views": {
       "grid_default": {
        "hidden": true
       },
       "report_default": {}
      }
     }
    }
   },
   "outputs": [],
   "source": [
    "d4.3=read.xlsx('mvstats5.xlsx','d4.3',rowNames=T);d4.3%.%head()\n",
    "fm=lm(y~x,data=d4.3)#一元线性回归模型\n",
    "fm"
   ]
  },
  {
   "cell_type": "code",
   "execution_count": null,
   "metadata": {
    "extensions": {
     "jupyter_dashboards": {
      "version": 1,
      "views": {
       "grid_default": {
        "hidden": true
       },
       "report_default": {}
      }
     }
    }
   },
   "outputs": [],
   "source": [
    "summary(fm)\n",
    "anova(fm) #模型方差分析"
   ]
  },
  {
   "cell_type": "code",
   "execution_count": null,
   "metadata": {
    "extensions": {
     "jupyter_dashboards": {
      "version": 1,
      "views": {
       "grid_default": {
        "hidden": true
       },
       "report_default": {}
      }
     }
    }
   },
   "outputs": [],
   "source": [
    ".iplot()\n",
    "plot(y~x,data=d4.3)#做散点图\n",
    "abline(fm)#添加回归线"
   ]
  },
  {
   "cell_type": "code",
   "execution_count": null,
   "metadata": {
    "extensions": {
     "jupyter_dashboards": {
      "version": 1,
      "views": {
       "grid_default": {
        "hidden": true
       },
       "report_default": {}
      }
     }
    }
   },
   "outputs": [],
   "source": [
    "d4.4=read.xlsx('mvstats5.xlsx','d4.4',rowNames=T);d4.4\n",
    "plot(d4.4,gap=0)\n",
    "fm=lm(y~x1+x2+x3+x4,data=d4.4);fm"
   ]
  },
  {
   "cell_type": "code",
   "execution_count": null,
   "metadata": {
    "extensions": {
     "jupyter_dashboards": {
      "version": 1,
      "views": {
       "grid_default": {
        "hidden": true
       },
       "report_default": {}
      }
     }
    }
   },
   "outputs": [],
   "source": [
    "coef.sd<-function(fm){  #标准回归系数\n",
    "  b=fm$coef;b\n",
    "  si=apply(fm$model,2,sd);si\n",
    "  bs=b[-1]*si[-1]/si[1]\n",
    "  bs\n",
    "}\n",
    "coef.sd(fm)\n",
    "\n",
    "anova(fm)#多元线性回归模型方差分析\n",
    "summary(fm)#多元线性回归系数t检验\n",
    "data.frame(summary(fm)$coef,bstar=c(NA,coef.sd(fm)))\n",
    "\n",
    "summary(fm)$fstat\n",
    "cor(d4.4)#多元数据相关系数矩阵\n",
    "pairs(yX)#多元数据散点图\n",
    "msa.cor.test(d4.4)#多元数据相关系数检验\n",
    "\n",
    "(R2=summary(fm)$r.sq)#显示多元线性回归模型决定系数\n",
    "(R=sqrt(R2))#显示多元数据复相关系数\n",
    "library(leaps)#加载leaps包\n",
    "varsel=regsubsets(y~x1+x2+x3+x4,data=yX)#多元数据线性回归变量选择模型\n",
    "result=summary(varsel)#变量选择方法结果           \n",
    "data.frame(result$outmat,RSS=result$rss,R2=result$rsq)#RSS和决定系数准则结果展示 \n",
    "data.frame(result$outmat,adjR2=result$adjr2,Cp=result$cp,BIC=result$bic)\n",
    "#调整决定系数,Cp和BIC准则结果展示\n",
    "fm=lm(y~x1+x2+x3+x4)#多元数据线性回归模型\n",
    "fm.step=step(fm,direction=\"forward\")#向前引入法变量选择结果\n",
    "fm.step=step(fm,direction=\"backward\")#向后剔除法变量选择结果\n",
    "fm.step=step(fm,direction=\"both\")#逐步筛选法变量选择结果\n",
    "summary(lm(y~x1+x2+x3+I(x3^2)+x4+I(x4^2),data=yX))"
   ]
  },
  {
   "cell_type": "markdown",
   "metadata": {
    "extensions": {
     "jupyter_dashboards": {
      "version": 1,
      "views": {
       "grid_default": {
        "hidden": true
       },
       "report_default": {}
      }
     }
    },
    "scrolled": true
   },
   "source": [
    "# 5 广义及一般性模型 "
   ]
  },
  {
   "cell_type": "code",
   "execution_count": null,
   "metadata": {
    "extensions": {
     "jupyter_dashboards": {
      "version": 1,
      "views": {
       "grid_default": {
        "hidden": true
       },
       "report_default": {}
      }
     }
    }
   },
   "outputs": [],
   "source": [
    "## —— 5.2.2  Logistic模型 -----------------------\n",
    "d5.1=read.xlsx('mvstats5.xlsx','d5.1');head(d5.1)\n",
    "logit.glm<-glm(y~x1+x2+x3,family=binomial,data=d5.1)#Logistic回归模型\n",
    "summary(logit.glm)#Logistic回归模型结果\n",
    "logit.step<-step(logit.glm,direction=\"both\")#逐步筛选法变量选择\n",
    "summary(logit.step)#逐步筛选法变量选择结果\n",
    "pre1<-predict(logit.step,data.frame(x1=1))#预测视力正常司机Logistic回归结果\n",
    "p1<-exp(pre1)/(1+exp(pre1))#预测视力正常司机发生事故概率\n",
    "pre2<-predict(logit.step,data.frame(x1=0))#预测视力有问题的司机Logistic回归结果\n",
    "p2<-exp(pre2)/(1+exp(pre2))#预测视力有问题的司机发生事故概率\n",
    "c(p1,p2)#结果显示\n",
    "## —— 5.2.3 对数线性模型 -----------------------\n",
    "d5.2=read.xlsx('mvstats5.xlsx','d5.2');head(d5.2)\n",
    "log.glm<-glm(y~x1+x2,family=poisson(link=log),data=d5.2)#多元对数线性模型\n",
    "summary(log.glm)#多元对数线性模型结果\n",
    "## —— 5.3.1 完全随机设计模型 ----------------------\n",
    "d5.3=read.xlsx('mvstats5.xlsx','d5.3');head(d5.3)\n",
    "anova(lm(Y~factor(A),data=d5.3))\n",
    "## —— 5.3.2 随机区组设计模型 ---------------------\n",
    "d5.4=read.xlsx('mvstats5.xlsx','d5.4');head(d5.4)\n",
    "anova(lm(Y~factor(A)+factor(B),data=d5.4))\n",
    "## —— 5.3.3 析因设计模型 ------------------------\n",
    "d5.5=read.xlsx('mvstats5.xlsx','d5.5');head(d5.5)\n",
    "anova(lm(Y~factor(A)*factor(B),data=d5.5))\n",
    "## —— 5.3.5 正交设计模型 ------------------------\n",
    "d5.6=read.xlsx('mvstats5.xlsx','d5.6');d5.6\n",
    "anova(lm(Y~factor(A)*factor(B),data=d5.6))"
   ]
  },
  {
   "cell_type": "markdown",
   "metadata": {
    "extensions": {
     "jupyter_dashboards": {
      "version": 1,
      "views": {
       "grid_default": {
        "hidden": true
       },
       "report_default": {}
      }
     }
    },
    "scrolled": true
   },
   "source": [
    "# 6 判别分析 "
   ]
  },
  {
   "cell_type": "code",
   "execution_count": null,
   "metadata": {
    "extensions": {
     "jupyter_dashboards": {
      "version": 1,
      "views": {
       "grid_default": {
        "hidden": true
       },
       "report_default": {}
      }
     }
    }
   },
   "outputs": [],
   "source": [
    "d6.1=read.xlsx('mvstats5.xlsx','d6.1');d6.1\n",
    "attach(d6.1)#绑定数据\n",
    "plot(x1,x2); text(x1,x2,G,adj=-0.5) #标识点所属类别G\n",
    "library(MASS)\n",
    "(ld=lda(G~x1+x2))#线性判别模型\n",
    "Z=predict(ld)#根据线性判别模型预测所属类别\n",
    "newG=Z$class#预测的所属类别结果\n",
    "cbind(G,Z$x,newG)#显示结果\n",
    "(tab=table(G,newG))#混淆矩阵        \n",
    "sum(diag(prop.table(tab)))#判对率   \n",
    "plot(ld,type='both')\n",
    "a1=ld$scaling[1,]; a2=ld$scaling[2,]\n",
    "#y=a1x1+a2x2 ===> x2=y0/a2-a1/a2x1  \n",
    "a = 1/a2*(a1*mean(x1)+a2*mean(x2))\n",
    "b =-a1/a2\n",
    "abline(a,b)  ##画出判别线\n",
    "text(x1,x2,newG,adj=-0.5)  ##标记出图上点的原始分类结果\n",
    "\n",
    "d6.2=read.xlsx('mvstats5.xlsx','d6.2');d6.2\n",
    "attach(d6.2)#绑定数据\n",
    "par(mar=c(4,4,2,1),cex=0.75) \n",
    "plot(Q,C);text(Q,C,G1,adj=-0.5)\n",
    "plot(Q,P);text(Q,P,G1,adj=-0.5)\n",
    "plot(C,P);text(C,P,G1,adj=-0.5)\n",
    "library(MASS)\n",
    "qd=qda(G1~Q+C+P);qd\n",
    "cbind(G1,newG=predict(qd)$class)\n",
    "predict(qd,data.frame(Q=8,C=7.5,P=65))\n",
    "\n",
    "ld=lda(G1~Q+C+P);ld\n",
    "W=predict(ld)\n",
    "cbind(G1,Wx=W$x,newG=W$class)\n",
    "predict(ld,data.frame(Q=8,C=7.5,P=65)) #判定\n",
    "options(digits=3)\n",
    "\n",
    "#读取例6.3数据 \n",
    "d6.3=read.xlsx('mvstats5.xlsx','d6.3');d6.3\n",
    "attach(d6.3)#绑定数据\n",
    "plot(Q,C);text(Q,C,G3,adj=-0.5,cex=0.75)\n",
    "plot(Q,P);text(Q,P,G3,adj=-0.5,cex=0.75)        \n",
    "plot(C,P);text(C,P,G3,adj=-0.5,cex=0.75)        \n",
    "\n",
    "ld=lda(G3~Q+C+P); ld\n",
    "Z=predict(ld)\n",
    "newG=Z$class\n",
    "cbind(G3,round(Z$x,3),newG)\n",
    "(tab=table(G3,newG))\n",
    "diag(prop.table(tab,1))\n",
    "sum(diag(prop.table(tab)))\n",
    "plot(Z$x)\n",
    "text(Z$x[,1],Z$x[,2],G3,adj=-0.8,cex=0.75)\n",
    "predict(ld,data.frame(Q=8,C=7.5,P=65)) #判定\n",
    "\n",
    "qd=qda(G2~Q+C+P); qd\n",
    "Z=predict(qd)\n",
    "newG=Z$class\n",
    "cbind(G2,newG)\n",
    "(tab=table(G2,newG))\n",
    "sum(diag(prop.table(tab)))\n",
    "predict(qd,data.frame(Q=8,C=7.5,P=65)) #判定\n",
    "\n",
    "(ld1=lda(G2~Q+C+P,prior=c(1,1,1)/3))#先验概率相等的Bayes判别模型\n",
    "(ld2=lda(G2~Q+C+P,prior=c(5,8,7)/20))#先验概率不相等的Bayes判别模型        \n",
    "Z1=predict(ld1)#预测所属类别        \n",
    "cbind(G2,round(Z1$x,3),newG=Z1$class)#显示结果 \n",
    "Z2=predict(ld2)#预测所属类别\n",
    "cbind(G2,round(Z2$x,3),newG=Z2$class)#显示结果\n",
    "table(G2,Z1$class)#混淆矩阵\n",
    "table(G2,Z2$class)#混淆矩阵\n",
    "round(Z1$post,3) #ld1模型后验概率\n",
    "round(Z2$post,3) #ld2模型后验概率\n",
    "predict(ld1,data.frame(Q=8,C=7.5,P=65))  # ld1模型的判定\n",
    "predict(ld2,data.frame(Q=8,C=7.5,P=65))  # ld2模型的判定"
   ]
  },
  {
   "cell_type": "markdown",
   "metadata": {
    "extensions": {
     "jupyter_dashboards": {
      "version": 1,
      "views": {
       "grid_default": {
        "hidden": true
       },
       "report_default": {}
      }
     }
    },
    "scrolled": true
   },
   "source": [
    "# 7 聚类分析 "
   ]
  },
  {
   "cell_type": "code",
   "execution_count": null,
   "metadata": {
    "extensions": {
     "jupyter_dashboards": {
      "version": 1,
      "views": {
       "grid_default": {
        "hidden": true
       },
       "report_default": {}
      }
     }
    }
   },
   "outputs": [],
   "source": [
    "x1=c(2.5,3.0,6.0,6.6,7.2,4.0,4.7,4.5,5.5)\n",
    "x2=c(2.1,2.5,2.5,1.5,3.0,6.4,5.6,7.6,6.9)\n",
    ".iplot(); plot(x1,x2,xlim=c(1,8),ylim=c(1,8)); text(x1,x2,labels=c(1:9),adj=-0.5) \n",
    "#plot(x1,x2); text(x1,x2,labels=c(1:9),adj=-0.5) "
   ]
  },
  {
   "cell_type": "code",
   "execution_count": null,
   "metadata": {
    "extensions": {
     "jupyter_dashboards": {
      "version": 1,
      "views": {
       "grid_default": {
        "hidden": true
       },
       "report_default": {}
      }
     }
    }
   },
   "outputs": [],
   "source": [
    "X=cbind(x1,x2); #形成数据矩阵\n",
    "#options(digits=3)\n",
    "dist(X) #默认为euclidean距离"
   ]
  },
  {
   "cell_type": "code",
   "execution_count": null,
   "metadata": {
    "extensions": {
     "jupyter_dashboards": {
      "version": 1,
      "views": {
       "grid_default": {
        "hidden": true
       },
       "report_default": {}
      }
     }
    }
   },
   "outputs": [],
   "source": [
    "dist(X,diag=TRUE)  #添加主对角线距离\n",
    "dist(X,upper=TRUE) #添加上三角距离 \n",
    "dist(X,diag=TRUE,upper=TRUE)"
   ]
  },
  {
   "cell_type": "code",
   "execution_count": null,
   "metadata": {
    "extensions": {
     "jupyter_dashboards": {
      "version": 1,
      "views": {
       "grid_default": {
        "hidden": true
       },
       "report_default": {}
      }
     }
    }
   },
   "outputs": [],
   "source": [
    "dist(X,method=\"manhattan\")     #manhattan距离\n",
    "dist(X,method=\"minkowski\",p=1) #manhattan距离\n",
    "dist(X,method=\"minkowski\",p=2) #euclidean距离\n",
    "\n",
    "D=dist(X);D\n",
    "min(D)\n",
    "\n",
    "hc<-hclust(D);hc #默认最长距离法\n",
    "cbind(hc$merge,hc$height) #分类过程\n",
    "plot(hc) #聚类图\n",
    "rect.hclust(hc,3) #加3分类框\n",
    "cutree(hc,1:3) #显示分类结果\n",
    "\n",
    "hc<-hclust(D,\"single\");hc #最短距离法\n",
    "names(hc)\n",
    "cbind(hc$merge,hc$height) #分类过程\n",
    "plot(hc) #聚类图\n",
    "\n",
    "hc<-hclust(dist(X),\"ward.D\") #ward距离法 \n",
    "cbind(hc$merge,hc$height) #分类过程\n",
    "plot(hc) #聚类图        "
   ]
  },
  {
   "cell_type": "code",
   "execution_count": null,
   "metadata": {
    "extensions": {
     "jupyter_dashboards": {
      "version": 1,
      "views": {
       "grid_default": {
        "hidden": true
       },
       "report_default": {}
      }
     }
    }
   },
   "outputs": [],
   "source": [
    "#d3.1=read.xlsx('mvstats5.xlsx','d3.1',rowNames=T);d3.1\n",
    "plot(d3.1,gap=0) #矩阵散点图"
   ]
  },
  {
   "cell_type": "code",
   "execution_count": null,
   "metadata": {
    "extensions": {
     "jupyter_dashboards": {
      "version": 1,
      "views": {
       "grid_default": {
        "hidden": true
       },
       "report_default": {}
      }
     }
    }
   },
   "outputs": [],
   "source": [
    "D=dist(d3.1);D"
   ]
  },
  {
   "cell_type": "code",
   "execution_count": null,
   "metadata": {
    "extensions": {
     "jupyter_dashboards": {
      "version": 1,
      "views": {
       "grid_default": {
        "hidden": true
       },
       "report_default": {}
      }
     }
    }
   },
   "outputs": [],
   "source": [
    ".iplot(); plot(hclust(D,'single')) #最短距离法"
   ]
  },
  {
   "cell_type": "code",
   "execution_count": null,
   "metadata": {
    "extensions": {
     "jupyter_dashboards": {
      "version": 1,
      "views": {
       "grid_default": {
        "hidden": true
       },
       "report_default": {}
      }
     }
    }
   },
   "outputs": [],
   "source": [
    "plot(hclust(D,'complete')) #最长距离法\n",
    "plot(hclust(D,'median')) #中间距离法 \n",
    "plot(hclust(D,'average')) #类平均法        \n",
    "plot(hclust(D,'centroid')) #重心法        \n",
    "plot(hclust(D,'ward.D')) #ward.D法\n",
    "plot(hclust(D,'ward.D2')) #ward.D2法\n",
    "\n",
    "H=hclust(D,'ward.D2');H\n",
    "plot(H); rect.hclust(H,2); cutree(H,2)\n",
    "plot(H); rect.hclust(H,3); cutree(H,3)\n",
    "plot(H); rect.hclust(H,4); cutree(H,4)\n",
    "\n",
    "set.seed(123)\n",
    "#产生均值0,标准差为0.3的100x10的正态随机数矩阵\n",
    "x1=matrix(rnorm(1000,0,0.3),ncol=10)\n",
    "#产生均值1,标准差为0.3的100x10的正态随机数矩阵\n",
    "x2=matrix(rnorm(1000,1,0.3),ncol=10)\n",
    "#形成200x10的正态随机数矩阵\n",
    "X=rbind(x1,x2);\n",
    "summary(X) \n",
    "\n",
    "H=hclust(dist(X))\n",
    "plot(H); rect.hclust(H,2);\n",
    "cutree(H,2)\n",
    "\n",
    "km=kmeans(X,2)     #kmeans聚类\n",
    "km$cluster         #分类结果\n",
    "plot(X,pch=km$cluster)\n",
    "\n",
    "set.seed(123)\n",
    "x1=matrix(rnorm(10000,0,0.25),ncol=10)\n",
    "x2=matrix(rnorm(10000,1,0.25),ncol=10) \n",
    "X=rbind(x1,x2)\n",
    "km=kmeans(X,2) #kmeans聚类\n",
    "kc=km$cluster;kc\n",
    "plot(X,pch=kc,col=kc)"
   ]
  },
  {
   "cell_type": "markdown",
   "metadata": {
    "extensions": {
     "jupyter_dashboards": {
      "version": 1,
      "views": {
       "grid_default": {
        "hidden": true
       },
       "report_default": {}
      }
     }
    },
    "scrolled": true
   },
   "source": [
    "# 8 主成分分析 "
   ]
  },
  {
   "cell_type": "code",
   "execution_count": null,
   "metadata": {
    "extensions": {
     "jupyter_dashboards": {
      "version": 1,
      "views": {
       "grid_default": {
        "hidden": true
       },
       "report_default": {}
      }
     }
    }
   },
   "outputs": [],
   "source": [
    "x1=c(147,171,175,159,155,152,158,154,164,168,166,159,164,177)\n",
    "x2=c(32,57,64,41,38,35,44,41,54,57,49,47,46,63)\n",
    ".iplot(); plot(x1,x2,xlim=c(145,180),ylim=c(25,75))\n",
    "lines(c(146,178),c(30,66));text(180,68,\"y1\")\n",
    "lines(c(161,168),c(60,38));text(161,63,\"y2\")    "
   ]
  },
  {
   "cell_type": "code",
   "execution_count": null,
   "metadata": {
    "extensions": {
     "jupyter_dashboards": {
      "version": 1,
      "views": {
       "grid_default": {
        "hidden": true
       },
       "report_default": {}
      }
     }
    }
   },
   "outputs": [],
   "source": [
    "cov(x1,x2)\n",
    "cor(x1,x2)\n",
    "\n",
    "X=cbind(x1,x2);X\n",
    "S=cov(X);S\n",
    "R=cor(X);R"
   ]
  },
  {
   "cell_type": "code",
   "execution_count": null,
   "metadata": {
    "extensions": {
     "jupyter_dashboards": {
      "version": 1,
      "views": {
       "grid_default": {
        "hidden": true
       },
       "report_default": {}
      }
     }
    }
   },
   "outputs": [],
   "source": [
    "pc=princomp(X);pc\n",
    "names(pc)  \n",
    "pc$sdev^2  #主成分方差\n",
    ".iplot(); plot(pc$scores,asp=1);abline(h=0,v=0,lty=3)\n",
    "biplot(pc$scores,pc$loadings);abline(h=0,v=0,lty=3)"
   ]
  },
  {
   "cell_type": "code",
   "execution_count": null,
   "metadata": {
    "extensions": {
     "jupyter_dashboards": {
      "version": 1,
      "views": {
       "grid_default": {
        "hidden": true
       },
       "report_default": {}
      }
     }
    }
   },
   "outputs": [],
   "source": [
    "summary(pc)\n",
    "pc$loadings\n",
    "\n",
    "#d3.1=read.xlsx('mvstats5.xlsx','d3.1',rowNames=T);d3.1\n",
    "pca=PCA(d3.1);pca\n",
    "par(mar=c(5,4,2,3))\n",
    "biplot(pca$scores,pca$loadings);abline(h=0,v=0,lty=3)"
   ]
  },
  {
   "cell_type": "markdown",
   "metadata": {
    "extensions": {
     "jupyter_dashboards": {
      "version": 1,
      "views": {
       "grid_default": {
        "hidden": true
       },
       "report_default": {}
      }
     }
    },
    "scrolled": true
   },
   "source": [
    "# 9 因子分析 "
   ]
  },
  {
   "cell_type": "code",
   "execution_count": null,
   "metadata": {
    "extensions": {
     "jupyter_dashboards": {
      "version": 1,
      "views": {
       "grid_default": {
        "hidden": true
       },
       "report_default": {}
      }
     }
    }
   },
   "outputs": [],
   "source": [
    "d9.1=read.xlsx('mvstats5.xlsx','d9.1',rowNames=T); d9.1\n",
    "cor(d9.1)"
   ]
  },
  {
   "cell_type": "code",
   "execution_count": null,
   "metadata": {
    "extensions": {
     "jupyter_dashboards": {
      "version": 1,
      "views": {
       "grid_default": {
        "hidden": true
       },
       "report_default": {}
      }
     }
    }
   },
   "outputs": [],
   "source": [
    "factanal(d9.1,6,rotation='none')\n",
    "Fa1=factanal(d9.1,3,rotation='none')\n",
    "round(Fa1$loadings[1:6,],4)   #极大似然法方差贡献\n",
    "1-Fa1$uniquenesses  #极大似然法共同度"
   ]
  },
  {
   "cell_type": "code",
   "execution_count": null,
   "metadata": {
    "extensions": {
     "jupyter_dashboards": {
      "version": 1,
      "views": {
       "grid_default": {
        "hidden": true
       },
       "report_default": {}
      }
     }
    }
   },
   "outputs": [],
   "source": [
    "#library(mvstats); source(\"factpc.R\")\n",
    "factpc(d9.1,6,rotation='none')$loadings\n",
    "Fp1=factpc(d9.1,3,rotation='none')\n",
    "Fp1$loadings\n",
    "Fp1$vars  #主因子法方差贡献\n",
    "Fp1$common  #主因子法共同度"
   ]
  },
  {
   "cell_type": "code",
   "execution_count": null,
   "metadata": {
    "extensions": {
     "jupyter_dashboards": {
      "version": 1,
      "views": {
       "grid_default": {
        "hidden": true
       },
       "report_default": {}
      }
     }
    }
   },
   "outputs": [],
   "source": [
    "Fp2=factpc(d9.1,3,rotation='varimax'); \n",
    "Fp2$vars\n",
    "Fp2$loadings\n",
    "\n",
    "Fa2=factanal(d9.1,3,rotation='varimax') \n",
    "round(Fa2$loadings[1:6,],4)\n",
    "\n",
    "Fp1$scores  #旋转前因子得分\n",
    "Fp2$scores  #旋转后因子得分\n",
    "\n",
    "Fp1\n",
    "Fp2\n",
    "\n",
    "(Fac=factpc(d9.1,3))#主成份法因子分析\n",
    "(Fa1=factanal(d9.1,3,rot=\"varimax\")) #varimax法旋转因子分析\n",
    "Fa1=factanal(d9.1,3,scores=\"regression\")#使用回归估计法的极大似然法因子分析\n",
    "Fa1$scores\n",
    "Fac1=factpc(d9.1,3,scores=\"regression\")#使用回归估计法的主成份法因子分析\n",
    "Fac1$scores\n",
    "factanal.rank(Fa1,plot=T)#因子得分作图与排名\n",
    "plot(Fp1$scores,asp=1); abline(h=0,v=0,lty=3)\n",
    "text(Fp1$scores,labels=rownames(X))\n",
    "plot(Fp2$scores,asp=1); abline(h=0,v=0,lty=3)\n",
    "text(Fp2$scores,labels=rownames(X))\n",
    "biplot(Fp2$scores,Fp2$loadings) #前2个因子信息重叠图        \n",
    "\n",
    "\n",
    "#d3.1=read.xlsx('mvstats5.xlsx','d3.1',rowNames=T); d3.1\n",
    "#library(mvstats)\n",
    "Fo=factpc(d3.1,3,rotation=\"none\");       #因子未旋转\n",
    "Fo\n",
    "Fr=factpc(d3.1,3,rotation=\"varimax\");   #因子旋转\n",
    "Fr  \n",
    "\n",
    "biplot(Fr$scores,Fr$loading)#信息重叠图        \n",
    "\n",
    "biplot(Fr$scores[,1:2],Fr$loading[,1:2]) \n",
    "biplot(Fr$scores[,2:3],Fr$loading[,2:3])\n",
    "biplot(Fr$scores[,c(1,3)],Fr$loading[,c(1,3)])"
   ]
  },
  {
   "cell_type": "markdown",
   "metadata": {
    "extensions": {
     "jupyter_dashboards": {
      "version": 1,
      "views": {
       "grid_default": {
        "hidden": true
       },
       "report_default": {}
      }
     }
    },
    "scrolled": true
   },
   "source": [
    "# 10 对应分析 "
   ]
  },
  {
   "cell_type": "code",
   "execution_count": null,
   "metadata": {
    "extensions": {
     "jupyter_dashboards": {
      "version": 1,
      "views": {
       "grid_default": {
        "hidden": true
       },
       "report_default": {}
      }
     }
    }
   },
   "outputs": [],
   "source": [
    "d10.1=read.xlsx('mvstats5.xlsx','d10.1',rowNames=T); d10.1\n",
    "chisq.test(d10.1) #卡方检验\n",
    "\n",
    "library(MASS)#加载MASS包        \n",
    "ca1=corresp(d10.1,nf=2)#对应分析        \n",
    "ca1#对应分析结果\n",
    "par(mar=c(4,4,3,1))\n",
    "biplot(ca1)#双坐标轴图\n",
    "#abline(v=0,h=0,lty=3)#添加轴线\n",
    "\n",
    "d10.2=read.xlsx('mvstats5.xlsx','d10.2',rowNames=T); d10.2\n",
    "ca2=corresp(d10.2,nf=2)#对应分析        \n",
    "ca2#对应分析结果\n",
    "biplot(ca2)#双坐标轴图\n",
    "#abline(v=0,h=0,lty=3)#添加轴线\n",
    "plot(cars)"
   ]
  },
  {
   "cell_type": "markdown",
   "metadata": {
    "extensions": {
     "jupyter_dashboards": {
      "version": 1,
      "views": {
       "grid_default": {
        "hidden": true
       },
       "report_default": {}
      }
     }
    },
    "scrolled": true
   },
   "source": [
    "# 11 典型相关分析 "
   ]
  },
  {
   "cell_type": "code",
   "execution_count": null,
   "metadata": {
    "extensions": {
     "jupyter_dashboards": {
      "version": 1,
      "views": {
       "grid_default": {
        "hidden": true
       },
       "report_default": {}
      }
     }
    }
   },
   "outputs": [],
   "source": [
    "d11.1=read.xlsx('mvstats5.xlsx','d11.1'); d11.1\n",
    "cor(d11.1)\n",
    "plot(d11.1,gap=0)\n",
    "summary(lm(y1~x1+x2+x3,data=d11.1))\n",
    "\n",
    "xy=scale(d11.1); #数据标准化 \n",
    "ca=cancor(xy[,1:3],xy[,4:6])#典型相关分析 \n",
    "ca\n",
    "\n",
    "library(mvstats)        \n",
    "cancor.test(xy[,1:3],xy[,4:6])  #典型相关分析及检验作图\n",
    "\n",
    "d11.2=read.xlsx('mvstats5.xlsx','d11.2'); d11.2\n",
    "cancor.test(d11.2[,1:4],d11.2[5:10],plot=T)     "
   ]
  },
  {
   "cell_type": "markdown",
   "metadata": {
    "extensions": {
     "jupyter_dashboards": {
      "version": 1,
      "views": {
       "grid_default": {
        "hidden": true
       },
       "report_default": {}
      }
     }
    },
    "scrolled": true
   },
   "source": [
    "# 12 多维标度分析 "
   ]
  },
  {
   "cell_type": "code",
   "execution_count": null,
   "metadata": {
    "extensions": {
     "jupyter_dashboards": {
      "version": 1,
      "views": {
       "grid_default": {
        "hidden": true
       },
       "report_default": {}
      }
     }
    }
   },
   "outputs": [],
   "source": [
    "D=matrix(c(0,1,sqrt(3),2,sqrt(3),1,1,\n",
    "           1,0,1,sqrt(3),2,sqrt(3),1,\n",
    "  \t     sqrt(3),1,0,1,sqrt(3),2,1,\n",
    "\t     2,sqrt(3),1,0,1,sqrt(3),1,\n",
    "\t     sqrt(3),2,sqrt(3),1,0,1,1,\n",
    "\t     1,sqrt(3),2,sqrt(3),1,0,1,\n",
    "\t     1,1,1,1,1,1,0),nrow=7,ncol=7)\n",
    "D\n",
    "\n",
    "round(cmdscale(D),3)  #sqrt(3)/2=0.866\n",
    "\n",
    "d12.1=read.xlsx('mvstats5.xlsx','d12.1',rowNames=T); d12.1\n",
    "MDS1=cmdscale(d12.1);MDS1\n",
    "x=MDS1[, 1];y=MDS1[, 2] \n",
    "plot(x,y,type='n',asp=1) # asp=1确保欧氏距离正确显示\n",
    "text(x,y,labels=rownames(d12.1))\n",
    "\n",
    "library(MASS)\n",
    "D=as.matrix(d12.1)\n",
    "MDS2=isoMDS(D,k=2); MDS2\n",
    "x=MDS2$points[,1]; y=MDS2$points[,2]\n",
    "plot(x,y,type=\"n\")\n",
    "text(x,y,labels=rownames(D))\n",
    "\n",
    "d12.4=read.xlsx('mvstats5.xlsx','d12.4',rowNames=T); d12.4\n",
    "D=dist(d12.4);D \n",
    "MDS=isoMDS(D);MDS\n",
    "x=MDS$points[,1];y=MDS$points[,2] \n",
    "plot(x,y); abline(h=0,v=0,lty=3)\n",
    "text(x,y,adj=0.5,labels=rownames(d12.4))"
   ]
  },
  {
   "cell_type": "markdown",
   "metadata": {
    "extensions": {
     "jupyter_dashboards": {
      "version": 1,
      "views": {
       "grid_default": {
        "hidden": true
       },
       "report_default": {}
      }
     }
    },
    "scrolled": true
   },
   "source": [
    "# 13 综合评价方法 "
   ]
  },
  {
   "cell_type": "code",
   "execution_count": null,
   "metadata": {
    "extensions": {
     "jupyter_dashboards": {
      "version": 1,
      "views": {
       "grid_default": {
        "hidden": true
       },
       "report_default": {}
      }
     }
    },
    "scrolled": true
   },
   "outputs": [],
   "source": [
    "d13.1=read.xlsx('mvstats5.xlsx','d13.1',rowNames=T); d13.1\n",
    "A1=d13.1[,1:6];A1\n",
    "X_Z<-function(X){   ##z=(x-min)/(max-min)*60+40\n",
    "\tzf<-function(x){ z=(x-min(x))/(max(x)-min(x))*60+40; z }  \n",
    "\tZ=apply(X,2,zf)\n",
    "\tZ\n",
    "}\n",
    "A1_Z=X_Z(A1); A1_Z\n",
    "\n",
    "library(mvstats)#加载mvstats包\n",
    "A=matrix(c(1,1/3,1/7,3,1,1/3,7,3,1),3,3); A  #构造的判断矩阵\n",
    "A_W=AHP(A);A_W\n",
    "\n",
    "### 综合评分法\n",
    "A1_S1=apply(A1_Z,1,mean);             #按行求综合得分\n",
    "cbind(A1_Z,A1_S1,A1_R1=rank(-A1_S1))    #按综合得分排名 \n",
    "### 层次分析法\n",
    "B1=matrix(c(1,4,5,3,6,7,1/4,1,2,1/2,3,4,1/5,1/2,1,1/3,2,3,1/3,  2,  3,  1,  4,5,\n",
    "1/6,1/3,1/2,1/4,1,2,1/7,1/4,1/3,1/5,1/2,1),6,6,byrow=T); B1  #构造B1的判断矩阵\n",
    "B1_W=AHP(B1);B1_W    #B1的权重\n",
    "\n",
    "A1_S2=A1_Z%*%B1_W    #层次法综合得分\n",
    "data.frame(A1_Z,A1_S2,A1_R2=rank(-A1_S2))  #层次法综合排名\n",
    "\n",
    "data.frame('综合评分'=A1_S1,'综合排名'=rank(-A1_S1),\n",
    "\t\t\t\t\t '层次得分'=A1_S2,'层次排名'=rank(-A1_S2))\n",
    "\n",
    "B2=matrix(c(1,4,5,7,8,9,1/4,1,2,4,5,6,1/5,1/2,1,3,4,5,1/7,1/4,1/3,1,2,3,1/8,1/5,\n",
    "1/4,1/2,1,2,1/9,1/6,1/5,1/3,1/2,1),6,6,byrow=T); B2 #构造B2的判断矩阵\n",
    "B2_W=AHP(B2);B2_W   #B2的权重\n",
    "round(B2_W,4)\n",
    "B3=matrix(c(1,5,2,6,2,6,1,1/5,1,1/4,2,1/4,2,0.2,1/2,5,1,5,1,5,1/2,1/6,1/2,1/5,\n",
    "1,1/5,1,1/6,1/2,4,1,5,1,5,1/2,1/6,1/2,1/5,1,1/5,1,1/6,1,5,2,2,2,6,1),7,7,byrow=T)\n",
    "#构造B3的判断矩阵\n",
    "B3_W=AHP(B3);B3_W  #B3的权重\n",
    "\n",
    "A2=d13.1[,8:13]              #A2组数据\n",
    "A3=d13.1[,14:20]             #A3组数据\n",
    "A2_S=X_Z(A2)%*%B2_W          #A2得分\n",
    "A3_S=X_Z(A3)%*%B3_W          #A3得分\n",
    "A_d=cbind(A1_S,A2_S,A3_S)    #A数据框\n",
    "A_S=A_d%*%A_W; A_S           #A得分\n",
    "data.frame('A1得分'=A1_S,'A1排名'=rank(-A1_S),'A2得分'=A2_S,'A2排名'=rank(-A2_S),\n",
    "\t\t\t\t\t 'A3得分'=A3_S,'A3排名'=rank(-A3_S),'综合得分'=A_S,'综合排名'=rank(-A_S))"
   ]
  }
 ],
 "metadata": {
  "extensions": {
   "jupyter_dashboards": {
    "activeView": "grid_default",
    "version": 1,
    "views": {
     "grid_default": {
      "cellMargin": 10,
      "defaultCellHeight": 20,
      "maxColumns": 12,
      "name": "grid",
      "type": "grid"
     },
     "report_default": {
      "name": "report",
      "type": "report"
     }
    }
   }
  },
  "hide_input": false,
  "kernelspec": {
   "display_name": "R",
   "language": "R",
   "name": "ir"
  },
  "language_info": {
   "codemirror_mode": "r",
   "file_extension": ".r",
   "mimetype": "text/x-r-source",
   "name": "R",
   "pygments_lexer": "r",
   "version": "3.4.3"
  },
  "toc": {
   "base_numbering": 1,
   "nav_menu": {
    "height": "236px",
    "width": "358px"
   },
   "number_sections": false,
   "sideBar": true,
   "skip_h1_title": false,
   "title_cell": "Table of Contents",
   "title_sidebar": "Contents",
   "toc_cell": false,
   "toc_position": {
    "height": "281px",
    "left": "907px",
    "top": "137.667px",
    "width": "300px"
   },
   "toc_section_display": true,
   "toc_window_display": true
  },
  "varInspector": {
   "cols": {
    "lenName": 16,
    "lenType": 16,
    "lenVar": 40
   },
   "kernels_config": {
    "python": {
     "delete_cmd_postfix": "",
     "delete_cmd_prefix": "del ",
     "library": "var_list.py",
     "varRefreshCmd": "print(var_dic_list())"
    },
    "r": {
     "delete_cmd_postfix": ") ",
     "delete_cmd_prefix": "rm(",
     "library": "var_list.r",
     "varRefreshCmd": "cat(var_dic_list()) "
    }
   },
   "position": {
    "height": "144px",
    "left": "916px",
    "right": "20px",
    "top": "573px",
    "width": "350px"
   },
   "types_to_exclude": [
    "module",
    "function",
    "builtin_function_or_method",
    "instance",
    "_Feature"
   ],
   "window_display": false
  }
 },
 "nbformat": 4,
 "nbformat_minor": 2
}
